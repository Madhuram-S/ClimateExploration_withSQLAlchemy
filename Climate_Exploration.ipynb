{
 "cells": [
  {
   "cell_type": "markdown",
   "metadata": {},
   "source": [
    "## Step 1 - Climate Analysis and Exploration\n",
    "\n",
    "In this assignment, we are exploring Hawaii climate (Percipitation and Temperature) based on sqlite database provided.\n",
    "\n",
    "We will use Python and SQLAlchemy to do basic climate analysis and data exploration of your climate database. All plots will be plotted using Matplotlib\n",
    "\n",
    "Following exploration and analysis are done\n",
    "\n",
    "- Understand the tables\n",
    "    - Using sqlchemy.inspect(), we will understand \n",
    "        * Tables in the sqlite database\n",
    "        * columns of each table along with their data types\n",
    "    - Using func.min() and func.max() functions with sqlalchemy, we will derive\n",
    "        * Start date of the climate data and end date of the climate data\n",
    "        * date that is exactly a year previous to the end date within the climate data\n",
    "\n",
    "- Precipitation Analysis using a query to retrieve the last 12 months of precipitation data\n",
    "\n",
    "- Station Analysis\n",
    "    * Total number of stations\n",
    "    * Most active stations\n",
    "    * Explore last 12 months of temperature observation data (tobs) for the most active station\n",
    "    * Plot a histogram with bins = 12\n",
    "\n",
    "- Temperature Analysis \n",
    "    * Find the minimum, average and maximum temperature for dates same as trip planned dates but a previous year\n",
    "    * Plot the min, avg, and max temperature from your previous query as a bar chart.\n",
    "         * with average temperature as the bar height.\n",
    "         * and peak-to-peak (tmax-tmin) value as the y error bar (yerr)\n",
    "         \n",
    "- Calculate the rainfall per weather station using the previous year's matching dates.\n",
    "\n",
    "- Calculate the daily normals. Normals are the averages for the min, avg, and max temperatures\n",
    "    * Create a list of dates for your trip in the format `%m-%d`. Use the `daily_normals` function to calculate the normals for each date string and append the results to a list.\n",
    "    * Use Pandas to plot an area plot (`stacked=False`) for the daily normals\n",
    "    \n",
    "## Step 2 - Climate App using Flask\n",
    "\n",
    "refer to file climate_explore_api.py for the above step"
   ]
  },
  {
   "cell_type": "code",
   "execution_count": 1,
   "metadata": {},
   "outputs": [],
   "source": [
    "# Import all dependencies\n",
    "import pandas as pd\n",
    "import numpy as np\n",
    "\n",
    "#SQLAlchemy libraries\n",
    "from sqlalchemy import create_engine # library to create the connection between DB and Python\n",
    "from sqlalchemy import func # library to use aggregate functions\n",
    "from sqlalchemy.ext.declarative import declarative_base # to create new tables or other metadata\n",
    "from sqlalchemy.ext.automap import automap_base # library specific to reflecting existing schema from DB and its mapping\n",
    "from sqlalchemy import func, desc, and_, or_ # library provides basic sql functions like count, max, min, avg\n",
    "from sqlalchemy.orm import Session # Library that sets session for SQL transaction\n",
    "from sqlalchemy import inspect # library to inspect the SQL table from the Session\n",
    "from sqlalchemy.sql.functions import coalesce # library to use check if null and replace with 0 or any value\n",
    "\n",
    "# Datetime libraries\n",
    "from datetime import datetime as dt, timedelta\n",
    "\n",
    "# Plotting Libraries\n",
    "import matplotlib\n",
    "from matplotlib import style\n",
    "import matplotlib.pyplot as plt\n",
    "\n",
    "import os"
   ]
  },
  {
   "cell_type": "code",
   "execution_count": 2,
   "metadata": {},
   "outputs": [],
   "source": [
    "# Declare global notebook variables\n",
    "\n",
    "# declare the database file if sqlite\n",
    "dbfile = \"hawaii.sqlite\"\n",
    "\n",
    "#Matpotlib scheme and settings\n",
    "style.use('fivethirtyeight')\n",
    "\n",
    "#Image Output dir\n",
    "image_dir = \"images\"\n",
    "\n",
    "# data / resources dir\n",
    "data_dir = \"Resources\""
   ]
  },
  {
   "cell_type": "markdown",
   "metadata": {},
   "source": [
    "#### Choose vacation start and end date"
   ]
  },
  {
   "cell_type": "code",
   "execution_count": 3,
   "metadata": {},
   "outputs": [
    {
     "name": "stdout",
     "output_type": "stream",
     "text": [
      "Chosen Vacation Start Date : 2019-02-01 00:00:00\n",
      "Chosen Vacation End Date : 2019-02-07 00:00:00\n"
     ]
    }
   ],
   "source": [
    "# Choose a vacation start and end date\n",
    "vac_st_date = dt(2019,2,1)\n",
    "vac_end_date = dt(2019,2,7)\n",
    "\n",
    "print(f\"Chosen Vacation Start Date : {vac_st_date}\")\n",
    "print(f\"Chosen Vacation End Date : {vac_end_date}\")\n",
    "\n"
   ]
  },
  {
   "cell_type": "markdown",
   "metadata": {},
   "source": [
    "#### Establish connection to the sqlite database using create_engine"
   ]
  },
  {
   "cell_type": "code",
   "execution_count": 4,
   "metadata": {},
   "outputs": [],
   "source": [
    "#create Engine to connect to sqlite db#### Establish connection to the sqlite database using create_engine\n",
    "engine = create_engine(f\"sqlite:///{data_dir}/{dbfile}\")"
   ]
  },
  {
   "cell_type": "markdown",
   "metadata": {},
   "source": [
    "#### Reflect all the tables in the db to Base object using automap_base()"
   ]
  },
  {
   "cell_type": "code",
   "execution_count": 5,
   "metadata": {},
   "outputs": [],
   "source": [
    "# decalre Base object and atuomap it to the schema\n",
    "Base  = automap_base() # declare Base as an automap_base class\n",
    "Base.prepare(engine, reflect = True) # reflect the metadata into Base class structure"
   ]
  },
  {
   "cell_type": "markdown",
   "metadata": {},
   "source": [
    "#### Explore the databse using the Base object and inspect()\n"
   ]
  },
  {
   "cell_type": "code",
   "execution_count": 6,
   "metadata": {},
   "outputs": [
    {
     "name": "stdout",
     "output_type": "stream",
     "text": [
      "Tables in the sqlite database are :\n",
      "['measurement', 'station']\n"
     ]
    }
   ],
   "source": [
    "# explore classes / tables within db#### Establish connection to the sqlite database using create_engine\n",
    "print(\"Tables in the sqlite database are :\")\n",
    "print(Base.classes.keys())"
   ]
  },
  {
   "cell_type": "code",
   "execution_count": 7,
   "metadata": {},
   "outputs": [
    {
     "name": "stdout",
     "output_type": "stream",
     "text": [
      "Tables in the Hawaii schema are ['measurement', 'station']\n",
      "Columns for Table : measurement \n",
      "----------------------------------------\n",
      "id, INTEGER\n",
      "station, TEXT\n",
      "date, TEXT\n",
      "prcp, FLOAT\n",
      "tobs, FLOAT\n",
      "----------------------------------------\n",
      "\n",
      "Columns for Table : station \n",
      "----------------------------------------\n",
      "id, INTEGER\n",
      "station, TEXT\n",
      "name, TEXT\n",
      "latitude, FLOAT\n",
      "longitude, FLOAT\n",
      "elevation, FLOAT\n",
      "----------------------------------------\n",
      "\n"
     ]
    }
   ],
   "source": [
    "#alternate way to inspect tables and columns\n",
    "\n",
    "# declare inspector object called 'ins'\n",
    "ins = inspect(engine)\n",
    "\n",
    "tables_list = ins.get_table_names()\n",
    "\n",
    "print(f\"Tables in the Hawaii schema are {tables_list}\")\n",
    "\n",
    "# find the columns within each of the tables\n",
    "\n",
    "for t in tables_list:\n",
    "    print(f\"Columns for Table : {t} \\n----------------------------------------\")\n",
    "    [print(f\"{c['name']}, {c['type']}\") for c in ins.get_columns(t)]\n",
    "    print(f\"----------------------------------------\\n\")\n"
   ]
  },
  {
   "cell_type": "markdown",
   "metadata": {},
   "source": [
    "#### Create References to Measurement and Station tables from the Base object"
   ]
  },
  {
   "cell_type": "code",
   "execution_count": 8,
   "metadata": {},
   "outputs": [],
   "source": [
    "# Create references of the required Tables using Base.classes#### Establish connection to the sqlite database using create_engine\n",
    "M = Base.classes.measurement\n",
    "S = Base.classes.station"
   ]
  },
  {
   "cell_type": "markdown",
   "metadata": {},
   "source": [
    "#### Create a session object that will be used to query the tables"
   ]
  },
  {
   "cell_type": "code",
   "execution_count": 9,
   "metadata": {},
   "outputs": [],
   "source": [
    "# Start SQL query Session\n",
    "session = Session(bind = engine)#### Establish connection to the sqlite database using create_engine"
   ]
  },
  {
   "cell_type": "markdown",
   "metadata": {},
   "source": [
    "#### Query the first 5 rows from Measurement table"
   ]
  },
  {
   "cell_type": "code",
   "execution_count": 10,
   "metadata": {},
   "outputs": [
    {
     "data": {
      "text/plain": [
       "[(1, 'USC00519397', '2010-01-01', 0.08, 65.0),\n",
       " (2, 'USC00519397', '2010-01-02', 0.0, 63.0),\n",
       " (3, 'USC00519397', '2010-01-03', 0.0, 74.0),\n",
       " (4, 'USC00519397', '2010-01-04', 0.0, 76.0),\n",
       " (5, 'USC00519397', '2010-01-06', None, 73.0)]"
      ]
     },
     "execution_count": 10,
     "metadata": {},
     "output_type": "execute_result"
    }
   ],
   "source": [
    "#query top 5 rows in measurement table and display results\n",
    "sel_list = [M.id, M.station, M.date, M.prcp, M.tobs]\n",
    "\n",
    "top5_measurement = session.query(*sel_list).limit(5).all()\n",
    "\n",
    "top5_measurement"
   ]
  },
  {
   "cell_type": "markdown",
   "metadata": {},
   "source": [
    "#### Query the Measurement table to get earliest and latest date observations in the DB. \n",
    "\n",
    "Also calculate the date for previous year from last observed date"
   ]
  },
  {
   "cell_type": "code",
   "execution_count": 11,
   "metadata": {},
   "outputs": [
    {
     "name": "stdout",
     "output_type": "stream",
     "text": [
      "The minimum date is 2010-01-01 00:00:00\n",
      "The maximum date is 2017-08-23 00:00:00\n",
      "Date year ago : 2016-08-23 00:00:00\n"
     ]
    }
   ],
   "source": [
    "#get Min and Max date in the DB for Measurement table\n",
    "\n",
    "min_dt = dt.strptime(session.query(func.min(M.date)).scalar(),\"%Y-%m-%d\") \n",
    "max_dt = dt.strptime(session.query(func.max(M.date)).scalar(),\"%Y-%m-%d\") \n",
    "\n",
    "print(f\"The minimum date is {min_dt}\")\n",
    "print(f\"The maximum date is {max_dt}\")\n",
    "\n",
    "# One year prior to last date in the db\n",
    "\n",
    "prev_year = max_dt - timedelta(days = 365)\n",
    "print(f\"Date year ago : {prev_year}\")"
   ]
  },
  {
   "cell_type": "markdown",
   "metadata": {},
   "source": [
    "### Precipitation Analysis\n",
    "\n",
    "* Design a query to retrieve the last 12 months of precipitation data.\n",
    "\n",
    "* Select only the `date` and `prcp` values.\n",
    "\n",
    "* Load the query results into a Pandas DataFrame and set the index to the date column.\n",
    "\n",
    "* Sort the DataFrame values by `date`.\n",
    "\n",
    "* Plot the results using the DataFrame `plot` method.\n",
    "\n",
    "* Use Pandas to print the summary statistics for the precipitation data"
   ]
  },
  {
   "cell_type": "code",
   "execution_count": 12,
   "metadata": {},
   "outputs": [
    {
     "data": {
      "text/html": [
       "<div>\n",
       "<style scoped>\n",
       "    .dataframe tbody tr th:only-of-type {\n",
       "        vertical-align: middle;\n",
       "    }\n",
       "\n",
       "    .dataframe tbody tr th {\n",
       "        vertical-align: top;\n",
       "    }\n",
       "\n",
       "    .dataframe thead th {\n",
       "        text-align: right;\n",
       "    }\n",
       "</style>\n",
       "<table border=\"1\" class=\"dataframe\">\n",
       "  <thead>\n",
       "    <tr style=\"text-align: right;\">\n",
       "      <th></th>\n",
       "      <th>Precipitation</th>\n",
       "    </tr>\n",
       "    <tr>\n",
       "      <th>Date</th>\n",
       "      <th></th>\n",
       "    </tr>\n",
       "  </thead>\n",
       "  <tbody>\n",
       "    <tr>\n",
       "      <th>2016-08-24</th>\n",
       "      <td>0.08</td>\n",
       "    </tr>\n",
       "    <tr>\n",
       "      <th>2016-08-25</th>\n",
       "      <td>0.08</td>\n",
       "    </tr>\n",
       "    <tr>\n",
       "      <th>2016-08-26</th>\n",
       "      <td>0.00</td>\n",
       "    </tr>\n",
       "    <tr>\n",
       "      <th>2016-08-27</th>\n",
       "      <td>0.00</td>\n",
       "    </tr>\n",
       "    <tr>\n",
       "      <th>2016-08-28</th>\n",
       "      <td>0.01</td>\n",
       "    </tr>\n",
       "  </tbody>\n",
       "</table>\n",
       "</div>"
      ],
      "text/plain": [
       "            Precipitation\n",
       "Date                     \n",
       "2016-08-24           0.08\n",
       "2016-08-25           0.08\n",
       "2016-08-26           0.00\n",
       "2016-08-27           0.00\n",
       "2016-08-28           0.01"
      ]
     },
     "execution_count": 12,
     "metadata": {},
     "output_type": "execute_result"
    }
   ],
   "source": [
    "prcp_data = pd.DataFrame(session.query(M.date.label('Date'),coalesce(M.prcp,0).label('Precipitation')).\\\n",
    "                         filter(M.date.between(prev_year, max_dt)).all())\n",
    "\n",
    "\n",
    "prcp_data.set_index('Date', inplace = True)\n",
    "\n",
    "prcp_data.sort_index()\n",
    "\n",
    "prcp_data.head()"
   ]
  },
  {
   "cell_type": "code",
   "execution_count": 13,
   "metadata": {},
   "outputs": [
    {
     "data": {
      "image/png": "[encoded data removed]",
      "text/plain": [
       "<Figure size 792x648 with 1 Axes>"
      ]
     },
     "metadata": {},
     "output_type": "display_data"
    }
   ],
   "source": [
    "ax = prcp_data.plot(y = 'Precipitation', figsize = (11,9), \\\n",
    "                    title = f\"Precipitation for previous 12 months of {max_dt.strftime('%Y-%m-%d')} \")\n",
    "\n",
    "# save plot to image folder\n",
    "plt.tight_layout()\n",
    "plt.savefig(os.path.join(image_dir, \"PreciptationvsDate.png\"))\n",
    "plt.show()\n"
   ]
  },
  {
   "cell_type": "code",
   "execution_count": 14,
   "metadata": {},
   "outputs": [
    {
     "data": {
      "text/html": [
       "<div>\n",
       "<style scoped>\n",
       "    .dataframe tbody tr th:only-of-type {\n",
       "        vertical-align: middle;\n",
       "    }\n",
       "\n",
       "    .dataframe tbody tr th {\n",
       "        vertical-align: top;\n",
       "    }\n",
       "\n",
       "    .dataframe thead th {\n",
       "        text-align: right;\n",
       "    }\n",
       "</style>\n",
       "<table border=\"1\" class=\"dataframe\">\n",
       "  <thead>\n",
       "    <tr style=\"text-align: right;\">\n",
       "      <th></th>\n",
       "      <th>Precipitation</th>\n",
       "    </tr>\n",
       "  </thead>\n",
       "  <tbody>\n",
       "    <tr>\n",
       "      <th>count</th>\n",
       "      <td>2223.000000</td>\n",
       "    </tr>\n",
       "    <tr>\n",
       "      <th>mean</th>\n",
       "      <td>0.159951</td>\n",
       "    </tr>\n",
       "    <tr>\n",
       "      <th>std</th>\n",
       "      <td>0.441220</td>\n",
       "    </tr>\n",
       "    <tr>\n",
       "      <th>min</th>\n",
       "      <td>0.000000</td>\n",
       "    </tr>\n",
       "    <tr>\n",
       "      <th>25%</th>\n",
       "      <td>0.000000</td>\n",
       "    </tr>\n",
       "    <tr>\n",
       "      <th>50%</th>\n",
       "      <td>0.010000</td>\n",
       "    </tr>\n",
       "    <tr>\n",
       "      <th>75%</th>\n",
       "      <td>0.110000</td>\n",
       "    </tr>\n",
       "    <tr>\n",
       "      <th>max</th>\n",
       "      <td>6.700000</td>\n",
       "    </tr>\n",
       "  </tbody>\n",
       "</table>\n",
       "</div>"
      ],
      "text/plain": [
       "       Precipitation\n",
       "count    2223.000000\n",
       "mean        0.159951\n",
       "std         0.441220\n",
       "min         0.000000\n",
       "25%         0.000000\n",
       "50%         0.010000\n",
       "75%         0.110000\n",
       "max         6.700000"
      ]
     },
     "execution_count": 14,
     "metadata": {},
     "output_type": "execute_result"
    }
   ],
   "source": [
    "prcp_data.describe()"
   ]
  },
  {
   "cell_type": "markdown",
   "metadata": {},
   "source": [
    "### Station Analysis\n",
    "\n",
    "* Design a query to calculate the total number of stations.\n",
    "\n",
    "* Design a query to find the most active stations.\n",
    "\n",
    "  * List the stations and observation counts in descending order.\n",
    "\n",
    "  * Which station has the highest number of observations?\n",
    "\n",
    "  * Hint: You may need to use functions such as `func.min`, `func.max`, `func.avg`, and `func.count` in your queries.\n",
    "\n",
    "* Design a query to retrieve the last 12 months of temperature observation data (tobs).\n",
    "\n",
    "  * Filter by the station with the highest number of observations.\n",
    "\n",
    "  * Plot the results as a histogram with `bins=12`."
   ]
  },
  {
   "cell_type": "code",
   "execution_count": 15,
   "metadata": {},
   "outputs": [
    {
     "name": "stdout",
     "output_type": "stream",
     "text": [
      "The total number of stations is : 9\n"
     ]
    }
   ],
   "source": [
    "#Design a query to calculate the total number of stations.\n",
    "num_stations = session.query(func.count(S.id)).scalar()\n",
    "\n",
    "print(f\"The total number of stations is : {num_stations}\")"
   ]
  },
  {
   "cell_type": "code",
   "execution_count": 16,
   "metadata": {},
   "outputs": [
    {
     "data": {
      "text/plain": [
       "[('USC00519281', 2772),\n",
       " ('USC00519397', 2724),\n",
       " ('USC00513117', 2709),\n",
       " ('USC00519523', 2669),\n",
       " ('USC00516128', 2612),\n",
       " ('USC00514830', 2202),\n",
       " ('USC00511918', 1979),\n",
       " ('USC00517948', 1372),\n",
       " ('USC00518838', 511)]"
      ]
     },
     "execution_count": 16,
     "metadata": {},
     "output_type": "execute_result"
    }
   ],
   "source": [
    "# Design a query to find the most active stations.\n",
    "# List the stations and observation counts in descending order.\n",
    "# Which station has the highest number of observations?\n",
    "\n",
    "active_stations = session.query(M.station.label('Station'), func.count(M.id).label(\"Obs\")).group_by(M.station).\\\n",
    "                        order_by(desc(func.count(M.id))).all()\n",
    "active_stations"
   ]
  },
  {
   "cell_type": "code",
   "execution_count": 17,
   "metadata": {},
   "outputs": [
    {
     "name": "stdout",
     "output_type": "stream",
     "text": [
      "The most active station is USC00519281 with 2772 observations\n"
     ]
    }
   ],
   "source": [
    "print(f\"The most active station is {active_stations[0][0]} with {active_stations[0][1]} observations\")"
   ]
  },
  {
   "cell_type": "code",
   "execution_count": 18,
   "metadata": {},
   "outputs": [
    {
     "name": "stdout",
     "output_type": "stream",
     "text": [
      "The minimum Temperature observed at station USC00519281 is 54.0\n",
      "The maximum Temperature observed at station USC00519281 is 85.0\n",
      "The average Temperature observed at station USC00519281 is 71.66378066378067\n"
     ]
    }
   ],
   "source": [
    "# Using the station id from the previous query, calculate the lowest temperature recorded, \n",
    "# highest temperature recorded, and average temperature most active station?\n",
    "min_tobs, max_tobs, avg_tobs = session.query(func.min(M.tobs), func.max(M.tobs), func.avg(M.tobs)).\\\n",
    "                filter(M.station == active_stations[0][0]).\\\n",
    "                         one()\n",
    "\n",
    "print(f\"The minimum Temperature observed at station {active_stations[0][0]} is {min_tobs}\")\n",
    "print(f\"The maximum Temperature observed at station {active_stations[0][0]} is {max_tobs}\")\n",
    "print(f\"The average Temperature observed at station {active_stations[0][0]} is {avg_tobs}\")"
   ]
  },
  {
   "cell_type": "code",
   "execution_count": 19,
   "metadata": {},
   "outputs": [
    {
     "data": {
      "text/html": [
       "<div>\n",
       "<style scoped>\n",
       "    .dataframe tbody tr th:only-of-type {\n",
       "        vertical-align: middle;\n",
       "    }\n",
       "\n",
       "    .dataframe tbody tr th {\n",
       "        vertical-align: top;\n",
       "    }\n",
       "\n",
       "    .dataframe thead th {\n",
       "        text-align: right;\n",
       "    }\n",
       "</style>\n",
       "<table border=\"1\" class=\"dataframe\">\n",
       "  <thead>\n",
       "    <tr style=\"text-align: right;\">\n",
       "      <th></th>\n",
       "      <th>Date</th>\n",
       "      <th>TempObs</th>\n",
       "    </tr>\n",
       "  </thead>\n",
       "  <tbody>\n",
       "    <tr>\n",
       "      <th>0</th>\n",
       "      <td>2016-08-24</td>\n",
       "      <td>77.0</td>\n",
       "    </tr>\n",
       "    <tr>\n",
       "      <th>1</th>\n",
       "      <td>2016-08-25</td>\n",
       "      <td>80.0</td>\n",
       "    </tr>\n",
       "    <tr>\n",
       "      <th>2</th>\n",
       "      <td>2016-08-26</td>\n",
       "      <td>80.0</td>\n",
       "    </tr>\n",
       "    <tr>\n",
       "      <th>3</th>\n",
       "      <td>2016-08-27</td>\n",
       "      <td>75.0</td>\n",
       "    </tr>\n",
       "    <tr>\n",
       "      <th>4</th>\n",
       "      <td>2016-08-28</td>\n",
       "      <td>73.0</td>\n",
       "    </tr>\n",
       "  </tbody>\n",
       "</table>\n",
       "</div>"
      ],
      "text/plain": [
       "         Date  TempObs\n",
       "0  2016-08-24     77.0\n",
       "1  2016-08-25     80.0\n",
       "2  2016-08-26     80.0\n",
       "3  2016-08-27     75.0\n",
       "4  2016-08-28     73.0"
      ]
     },
     "execution_count": 19,
     "metadata": {},
     "output_type": "execute_result"
    }
   ],
   "source": [
    "# Design a query to retrieve the last 12 months of temperature observation data (tobs).\n",
    "# Filter by the station with the highest number of observations.\n",
    "# Plot the results as a histogram with bins=12.\n",
    "\n",
    "tobs_data = pd.DataFrame(session.query(M.date.label('Date'), coalesce(M.tobs.label(\"TempObs\"),0)).\\\n",
    "                filter(M.date.between(prev_year, max_dt)).filter(M.station == active_stations[0][0]).\\\n",
    "                         all(), columns = ['Date','TempObs'])\n",
    "tobs_data.head()"
   ]
  },
  {
   "cell_type": "code",
   "execution_count": 20,
   "metadata": {},
   "outputs": [
    {
     "data": {
      "image/png": "[encoded data removed]",
      "text/plain": [
       "<Figure size 504x360 with 1 Axes>"
      ]
     },
     "metadata": {},
     "output_type": "display_data"
    }
   ],
   "source": [
    "fig, axs = plt.subplots(figsize = (7,5))\n",
    "tobs_data.hist(bins = 12, ax = axs, label = 'TOBS')\n",
    "axs.set_title(f\"Histogram of Temperature observered at {active_stations[0][0]} for last 12 months\", fontsize = 14)\n",
    "axs.set_ylabel(\"Frequency\", fontsize = 14)\n",
    "plt.legend(loc = 'best')\n",
    "\n",
    "plt.tight_layout()\n",
    "plt.savefig(os.path.join(image_dir,\"Tobs_hist.png\"))\n",
    "\n",
    "plt.show()"
   ]
  },
  {
   "cell_type": "markdown",
   "metadata": {},
   "source": [
    "\n",
    "### Temperature Analysis (Optional)\n",
    "\n",
    "* The starter notebook contains a function called `calc_temps` that will accept a start date and end date in the format `%Y-%m-%d` and return the minimum, average, and maximum temperatures for that range of dates.\n",
    "\n",
    "* Use the `calc_temps` function to calculate the min, avg, and max temperatures for your trip using the matching dates from the previous year (i.e., use \"2017-01-01\" if your trip start date was \"2018-01-01\").\n",
    "\n",
    "* Plot the min, avg, and max temperature from your previous query as a bar chart.\n",
    "\n",
    "  * Use the average temperature as the bar height.\n",
    "\n",
    "  * Use the peak-to-peak (tmax-tmin) value as the y error bar (yerr)."
   ]
  },
  {
   "cell_type": "code",
   "execution_count": 21,
   "metadata": {},
   "outputs": [],
   "source": [
    "# This function called `calc_temps` will accept start date and end date in the format '%Y-%m-%d' \n",
    "# and return the minimum, average, and maximum temperatures for that range of dates\n",
    "def calc_temps(st_dt, end_dt):\n",
    "    \"\"\"TMIN, TAVG, and TMAX for a list of dates.\n",
    "    \n",
    "    Args:\n",
    "        st_dt (string): A date string in the format %Y-%m-%d\n",
    "        end_dt (string): A date string in the format %Y-%m-%d\n",
    "        \n",
    "    Returns:\n",
    "        TMIN, TAVE, and TMAX\n",
    "    \"\"\"\n",
    "    return session.query(func.min(M.tobs), func.avg(M.tobs), func.max(M.tobs)).\\\n",
    "                filter(M.date.between(st_dt, end_dt)).one()\n",
    "\n",
    "#print(calc_temps('2012-02-28', '2012-03-05'))"
   ]
  },
  {
   "cell_type": "code",
   "execution_count": 22,
   "metadata": {},
   "outputs": [
    {
     "name": "stdout",
     "output_type": "stream",
     "text": [
      "The vacation start date and end date is 2019-02-01 00:00:00 and 2019-02-07 00:00:00\n"
     ]
    }
   ],
   "source": [
    "print(f'The vacation start date and end date is {vac_st_date} and {vac_end_date}')"
   ]
  },
  {
   "cell_type": "code",
   "execution_count": 23,
   "metadata": {},
   "outputs": [
    {
     "name": "stdout",
     "output_type": "stream",
     "text": [
      "query dates are 2017-02-01 and 2017-02-07\n",
      "The minimum, average and maximum temperature observed are 59.0,69.42222222222222,80.0\n"
     ]
    }
   ],
   "source": [
    "# Use the calc_temps function to calculate the min, avg, and max temperatures for your trip \n",
    "# using the matching dates from the previous year \n",
    "# (i.e., use \"2017-01-01\" if your trip start date was \"2018-01-01\").\n",
    "\n",
    "## CONSTRUCT THE DATE FOR THE QUERY BASED on VACATION DATES AND MAX DATE in DB\n",
    "# Extract the month and day from vacation start and end dates\n",
    "\n",
    "qry_st_dt = str(max_dt.year) + \"-\" + vac_st_date.strftime(\"%m-%d\")\n",
    "qry_end_dt = str(max_dt.year) + \"-\" + vac_end_date.strftime(\"%m-%d\")\n",
    "\n",
    "print(f\"query dates are {qry_st_dt} and {qry_end_dt}\")\n",
    "\n",
    "# CALL THE `calc-temps` function to get Observered Temps (min, avg and Max)\n",
    "\n",
    "min_tobs, avg_tobs, max_tobs = calc_temps(qry_st_dt, qry_end_dt)\n",
    "\n",
    "print(f\"The minimum, average and maximum temperature observed are {min_tobs},{avg_tobs},{max_tobs}\")"
   ]
  },
  {
   "cell_type": "code",
   "execution_count": 24,
   "metadata": {},
   "outputs": [
    {
     "data": {
      "image/png": "[encoded data removed]",
      "text/plain": [
       "<Figure size 288x504 with 1 Axes>"
      ]
     },
     "metadata": {},
     "output_type": "display_data"
    }
   ],
   "source": [
    "fig, ax = plt.subplots(figsize = (4,7))\n",
    "\n",
    "ax.bar(x = 1, height = avg_tobs, yerr = (max_tobs - min_tobs), color = '#FFCC99')\n",
    "\n",
    "ax.set_ylabel(ylabel = \"Temp (F)\")\n",
    "ax.set_title(\"Trip Avg Temp  \", fontsize = 28)\n",
    "ax.set_ylim(0, 105, 5)\n",
    "ax.set_xticks([])\n",
    "ax.grid(True, axis = 'y')\n",
    "\n",
    "plt.tight_layout()\n",
    "plt.savefig(os.path.join(image_dir, \"Vac_Temp_obs.png\"))\n",
    "plt.show()"
   ]
  },
  {
   "cell_type": "markdown",
   "metadata": {},
   "source": [
    "### Other Recommended Analysis (Optional)\n",
    "\n",
    "* The following are optional challenge queries. These are highly recommended to attempt, but not required for the homework.\n",
    "\n",
    "  * Calculate the rainfall per weather station using the previous year's matching dates.\n",
    "\n",
    "* Calculate the daily normals. Normals are the averages for the min, avg, and max temperatures.\n",
    "\n",
    "  * You are provided with a function called `daily_normals` that will calculate the daily normals for a specific date. This date string will be in the format `%m-%d`. Be sure to use all historic tobs that match that date string.\n",
    "\n",
    "  * Create a list of dates for your trip in the format `%m-%d`. Use the `daily_normals` function to calculate the normals for each date string and append the results to a list.\n",
    "\n",
    "  * Load the list of daily normals into a Pandas DataFrame and set the index equal to the date.\n",
    "\n",
    "  * Use Pandas to plot an area plot (`stacked=False`) for the daily normals."
   ]
  },
  {
   "cell_type": "code",
   "execution_count": 25,
   "metadata": {},
   "outputs": [
    {
     "data": {
      "text/html": [
       "<div>\n",
       "<style scoped>\n",
       "    .dataframe tbody tr th:only-of-type {\n",
       "        vertical-align: middle;\n",
       "    }\n",
       "\n",
       "    .dataframe tbody tr th {\n",
       "        vertical-align: top;\n",
       "    }\n",
       "\n",
       "    .dataframe thead th {\n",
       "        text-align: right;\n",
       "    }\n",
       "</style>\n",
       "<table border=\"1\" class=\"dataframe\">\n",
       "  <thead>\n",
       "    <tr style=\"text-align: right;\">\n",
       "      <th></th>\n",
       "      <th>Station</th>\n",
       "      <th>Station_Name</th>\n",
       "      <th>Latitude</th>\n",
       "      <th>Logitude</th>\n",
       "      <th>Elevation</th>\n",
       "      <th>Precipitation</th>\n",
       "    </tr>\n",
       "  </thead>\n",
       "  <tbody>\n",
       "    <tr>\n",
       "      <th>0</th>\n",
       "      <td>USC00519523</td>\n",
       "      <td>WAIMANALO EXPERIMENTAL FARM, HI US</td>\n",
       "      <td>21.33556</td>\n",
       "      <td>-157.71139</td>\n",
       "      <td>19.5</td>\n",
       "      <td>1.80</td>\n",
       "    </tr>\n",
       "    <tr>\n",
       "      <th>1</th>\n",
       "      <td>USC00516128</td>\n",
       "      <td>MANOA LYON ARBO 785.2, HI US</td>\n",
       "      <td>21.33310</td>\n",
       "      <td>-157.80250</td>\n",
       "      <td>152.4</td>\n",
       "      <td>1.79</td>\n",
       "    </tr>\n",
       "    <tr>\n",
       "      <th>2</th>\n",
       "      <td>USC00519281</td>\n",
       "      <td>WAIHEE 837.5, HI US</td>\n",
       "      <td>21.45167</td>\n",
       "      <td>-157.84889</td>\n",
       "      <td>32.9</td>\n",
       "      <td>1.32</td>\n",
       "    </tr>\n",
       "    <tr>\n",
       "      <th>3</th>\n",
       "      <td>USC00513117</td>\n",
       "      <td>KANEOHE 838.1, HI US</td>\n",
       "      <td>21.42340</td>\n",
       "      <td>-157.80150</td>\n",
       "      <td>14.6</td>\n",
       "      <td>1.08</td>\n",
       "    </tr>\n",
       "    <tr>\n",
       "      <th>4</th>\n",
       "      <td>USC00514830</td>\n",
       "      <td>KUALOA RANCH HEADQUARTERS 886.9, HI US</td>\n",
       "      <td>21.52130</td>\n",
       "      <td>-157.83740</td>\n",
       "      <td>7.0</td>\n",
       "      <td>0.90</td>\n",
       "    </tr>\n",
       "    <tr>\n",
       "      <th>5</th>\n",
       "      <td>USC00519397</td>\n",
       "      <td>WAIKIKI 717.2, HI US</td>\n",
       "      <td>21.27160</td>\n",
       "      <td>-157.81680</td>\n",
       "      <td>3.0</td>\n",
       "      <td>0.51</td>\n",
       "    </tr>\n",
       "    <tr>\n",
       "      <th>6</th>\n",
       "      <td>USC00517948</td>\n",
       "      <td>PEARL CITY, HI US</td>\n",
       "      <td>21.39340</td>\n",
       "      <td>-157.97510</td>\n",
       "      <td>11.9</td>\n",
       "      <td>0.00</td>\n",
       "    </tr>\n",
       "  </tbody>\n",
       "</table>\n",
       "</div>"
      ],
      "text/plain": [
       "       Station                            Station_Name  Latitude   Logitude  \\\n",
       "0  USC00519523      WAIMANALO EXPERIMENTAL FARM, HI US  21.33556 -157.71139   \n",
       "1  USC00516128            MANOA LYON ARBO 785.2, HI US  21.33310 -157.80250   \n",
       "2  USC00519281                     WAIHEE 837.5, HI US  21.45167 -157.84889   \n",
       "3  USC00513117                    KANEOHE 838.1, HI US  21.42340 -157.80150   \n",
       "4  USC00514830  KUALOA RANCH HEADQUARTERS 886.9, HI US  21.52130 -157.83740   \n",
       "5  USC00519397                    WAIKIKI 717.2, HI US  21.27160 -157.81680   \n",
       "6  USC00517948                       PEARL CITY, HI US  21.39340 -157.97510   \n",
       "\n",
       "   Elevation  Precipitation  \n",
       "0       19.5           1.80  \n",
       "1      152.4           1.79  \n",
       "2       32.9           1.32  \n",
       "3       14.6           1.08  \n",
       "4        7.0           0.90  \n",
       "5        3.0           0.51  \n",
       "6       11.9           0.00  "
      ]
     },
     "execution_count": 25,
     "metadata": {},
     "output_type": "execute_result"
    }
   ],
   "source": [
    "# Calculate the rainfall per weather station for your trip dates using the previous year's matching dates.\n",
    "# Sort this in descending order by precipitation amount and list the station, name, latitude, longitude, and elevation\n",
    "\n",
    "rainfall_data = pd.DataFrame(session.query(S.station.label('Station'), S.name.label('Station_Name'), \\\n",
    "                                            S.latitude.label('Latitude'), S.longitude.label('Logitude'), \\\n",
    "                                           S.elevation.label('Elevation'), coalesce(M.prcp,0).label('Precipitation')).\\\n",
    "                filter(and_(M.station == S.station, M.date.between(qry_st_dt,qry_end_dt))).\\\n",
    "                group_by(S.id).order_by(desc(coalesce(M.prcp,0))).all())\n",
    "\n",
    "rainfall_data"
   ]
  },
  {
   "cell_type": "markdown",
   "metadata": {},
   "source": [
    "#### Part 2\n",
    "* Calculate the daily normals. Normals are the averages for the min, avg, and max temperatures.\n",
    "\n",
    "  * You are provided with a function called `daily_normals` that will calculate the daily normals for a specific date. This date string will be in the format `%m-%d`. Be sure to use all historic tobs that match that date string.\n",
    "\n",
    " * Create a list of dates for your trip in the format `%m-%d`. Use the `daily_normals` function to calculate the normals for each date string and append the results to a list.\n",
    "\n",
    "  * Load the list of daily normals into a Pandas DataFrame and set the index equal to the date.\n",
    "\n",
    "  * Use Pandas to plot an area plot (`stacked=False`) for the daily normals."
   ]
  },
  {
   "cell_type": "code",
   "execution_count": 26,
   "metadata": {},
   "outputs": [
    {
     "data": {
      "text/plain": [
       "(60.0, 69.39622641509433, 77.0)"
      ]
     },
     "execution_count": 26,
     "metadata": {},
     "output_type": "execute_result"
    }
   ],
   "source": [
    "# Create a query that will calculate the daily normals \n",
    "# (i.e. the averages for tmin, tmax, and tavg for all historic data matching a specific month and day)\n",
    "\n",
    "def daily_normals(date):\n",
    "    \"\"\"Daily Normals.\n",
    "    \n",
    "    Args:\n",
    "        date (str): A date string in the format '%m-%d'\n",
    "        \n",
    "    Returns:\n",
    "        A list of tuples containing the daily normals, tmin, tavg, and tmax\n",
    "    \n",
    "    \"\"\"\n",
    "    return session.query(func.min(M.tobs), func.avg(M.tobs), func.max(M.tobs)).\\\n",
    "                filter(func.strftime('%m-%d',M.date) == date).one()\n",
    "\n",
    "#test\n",
    "daily_normals('01-02')\n",
    "\n"
   ]
  },
  {
   "cell_type": "code",
   "execution_count": 27,
   "metadata": {},
   "outputs": [
    {
     "data": {
      "text/plain": [
       "DatetimeIndex(['2019-02-01', '2019-02-02', '2019-02-03', '2019-02-04',\n",
       "               '2019-02-05', '2019-02-06', '2019-02-07'],\n",
       "              dtype='datetime64[ns]', freq='D')"
      ]
     },
     "execution_count": 27,
     "metadata": {},
     "output_type": "execute_result"
    }
   ],
   "source": [
    "#generate date ranges between vacation start and end dates\n",
    "\n",
    "dt_rng = pd.date_range(vac_st_date.strftime(\"%Y-%m-%d\"), vac_end_date.strftime(\"%Y-%m-%d\"))\n",
    "dt_rng"
   ]
  },
  {
   "cell_type": "code",
   "execution_count": 28,
   "metadata": {},
   "outputs": [
    {
     "data": {
      "text/plain": [
       "['02-01', '02-02', '02-03', '02-04', '02-05', '02-06', '02-07']"
      ]
     },
     "execution_count": 28,
     "metadata": {},
     "output_type": "execute_result"
    }
   ],
   "source": [
    "#extract -mnth-date from each date in the range\n",
    "m_dt_str = [v.strftime('%m-%d') for v in dt_rng]\n",
    "m_dt_str"
   ]
  },
  {
   "cell_type": "code",
   "execution_count": 29,
   "metadata": {},
   "outputs": [
    {
     "data": {
      "text/html": [
       "<div>\n",
       "<style scoped>\n",
       "    .dataframe tbody tr th:only-of-type {\n",
       "        vertical-align: middle;\n",
       "    }\n",
       "\n",
       "    .dataframe tbody tr th {\n",
       "        vertical-align: top;\n",
       "    }\n",
       "\n",
       "    .dataframe thead th {\n",
       "        text-align: right;\n",
       "    }\n",
       "</style>\n",
       "<table border=\"1\" class=\"dataframe\">\n",
       "  <thead>\n",
       "    <tr style=\"text-align: right;\">\n",
       "      <th></th>\n",
       "      <th>TMin</th>\n",
       "      <th>TAvg</th>\n",
       "      <th>TMax</th>\n",
       "    </tr>\n",
       "    <tr>\n",
       "      <th>Date</th>\n",
       "      <th></th>\n",
       "      <th></th>\n",
       "      <th></th>\n",
       "    </tr>\n",
       "  </thead>\n",
       "  <tbody>\n",
       "    <tr>\n",
       "      <th>2019-02-01</th>\n",
       "      <td>56.0</td>\n",
       "      <td>68.140351</td>\n",
       "      <td>78.0</td>\n",
       "    </tr>\n",
       "    <tr>\n",
       "      <th>2019-02-02</th>\n",
       "      <td>59.0</td>\n",
       "      <td>68.859649</td>\n",
       "      <td>77.0</td>\n",
       "    </tr>\n",
       "    <tr>\n",
       "      <th>2019-02-03</th>\n",
       "      <td>58.0</td>\n",
       "      <td>67.796610</td>\n",
       "      <td>77.0</td>\n",
       "    </tr>\n",
       "    <tr>\n",
       "      <th>2019-02-04</th>\n",
       "      <td>61.0</td>\n",
       "      <td>68.140351</td>\n",
       "      <td>76.0</td>\n",
       "    </tr>\n",
       "    <tr>\n",
       "      <th>2019-02-05</th>\n",
       "      <td>59.0</td>\n",
       "      <td>69.684211</td>\n",
       "      <td>80.0</td>\n",
       "    </tr>\n",
       "    <tr>\n",
       "      <th>2019-02-06</th>\n",
       "      <td>58.0</td>\n",
       "      <td>70.389831</td>\n",
       "      <td>77.0</td>\n",
       "    </tr>\n",
       "    <tr>\n",
       "      <th>2019-02-07</th>\n",
       "      <td>60.0</td>\n",
       "      <td>69.000000</td>\n",
       "      <td>77.0</td>\n",
       "    </tr>\n",
       "  </tbody>\n",
       "</table>\n",
       "</div>"
      ],
      "text/plain": [
       "            TMin       TAvg  TMax\n",
       "Date                             \n",
       "2019-02-01  56.0  68.140351  78.0\n",
       "2019-02-02  59.0  68.859649  77.0\n",
       "2019-02-03  58.0  67.796610  77.0\n",
       "2019-02-04  61.0  68.140351  76.0\n",
       "2019-02-05  59.0  69.684211  80.0\n",
       "2019-02-06  58.0  70.389831  77.0\n",
       "2019-02-07  60.0  69.000000  77.0"
      ]
     },
     "execution_count": 29,
     "metadata": {},
     "output_type": "execute_result"
    }
   ],
   "source": [
    "# Loop to get the daily_normals for each of the mnth-day strings\n",
    "dly_norm = pd.DataFrame([daily_normals(s) for s in m_dt_str], columns = ['TMin','TAvg','TMax'])\n",
    "                        \n",
    "dly_norm['Date'] = [v.strftime('%Y-%m-%d') for v in dt_rng]\n",
    "\n",
    "dly_norm.set_index('Date', inplace = True)\n",
    "dly_norm"
   ]
  },
  {
   "cell_type": "code",
   "execution_count": 30,
   "metadata": {},
   "outputs": [
    {
     "data": {
      "image/png": "[encoded data removed]",
      "text/plain": [
       "<Figure size 648x504 with 1 Axes>"
      ]
     },
     "metadata": {},
     "output_type": "display_data"
    }
   ],
   "source": [
    "\n",
    "fig, axs = plt.subplots(figsize = (9,7))\n",
    "dly_norm.plot(kind = 'area', stacked = False, ax = axs)\n",
    "\n",
    "axs.set(xlabel = 'Date', ylabel = \"Temp (F)\", title = 'Temperature Change in vacation date range    ')\n",
    "axs.set_xticklabels(dly_norm.index, rotation = 30)\n",
    "\n",
    "axs.legend(loc = 'lower right')\n",
    "\n",
    "plt.tight_layout()\n",
    "plt.savefig(os.path.join(image_dir, \"TempChng_areaplot.png\"))\n",
    "plt.show()"
   ]
  },
  {
   "cell_type": "markdown",
   "metadata": {},
   "source": [
    "#### All work done -- close session"
   ]
  },
  {
   "cell_type": "code",
   "execution_count": 31,
   "metadata": {},
   "outputs": [],
   "source": [
    "session.close()"
   ]
  },
  {
   "cell_type": "code",
   "execution_count": null,
   "metadata": {},
   "outputs": [],
   "source": []
  }
 ],
 "metadata": {
  "kernelspec": {
   "display_name": "Python 3",
   "language": "python",
   "name": "python3"
  },
  "language_info": {
   "codemirror_mode": {
    "name": "ipython",
    "version": 3
   },
   "file_extension": ".py",
   "mimetype": "text/x-python",
   "name": "python",
   "nbconvert_exporter": "python",
   "pygments_lexer": "ipython3",
   "version": "3.7.0"
  }
 },
 "nbformat": 4,
 "nbformat_minor": 2
}
